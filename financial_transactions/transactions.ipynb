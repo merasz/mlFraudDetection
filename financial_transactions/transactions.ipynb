{
 "cells": [
  {
   "cell_type": "markdown",
   "id": "relative-cheat",
   "metadata": {
    "toc": true
   },
   "source": [
    "<h1>Table of Contents<span class=\"tocSkip\"></span></h1>\n",
    "<div class=\"toc\"><ul class=\"toc-item\"><li><span><a href=\"#Training-a-Classifier-to-Detect-Fraudulent-Financial-Transactions\" data-toc-modified-id=\"Training-a-Classifier-to-Detect-Fraudulent-Financial-Transactions-1\"><span class=\"toc-item-num\">1&nbsp;&nbsp;</span>Training a Classifier to Detect Fraudulent Financial Transactions</a></span><ul class=\"toc-item\"><li><span><a href=\"#Creating-the-Test-Set\" data-toc-modified-id=\"Creating-the-Test-Set-1.1\"><span class=\"toc-item-num\">1.1&nbsp;&nbsp;</span>Creating the Test Set</a></span></li><li><span><a href=\"#Fitting-a-Dummy-Classifier\" data-toc-modified-id=\"Fitting-a-Dummy-Classifier-1.2\"><span class=\"toc-item-num\">1.2&nbsp;&nbsp;</span>Fitting a Dummy Classifier</a></span></li><li><span><a href=\"#Implementing-the-Predict-Function\" data-toc-modified-id=\"Implementing-the-Predict-Function-1.3\"><span class=\"toc-item-num\">1.3&nbsp;&nbsp;</span>Implementing the Predict Function</a></span></li><li><span><a href=\"#Testing-the-Dummy-Classifier\" data-toc-modified-id=\"Testing-the-Dummy-Classifier-1.4\"><span class=\"toc-item-num\">1.4&nbsp;&nbsp;</span>Testing the Dummy Classifier</a></span></li></ul></li></ul></div>"
   ]
  },
  {
   "cell_type": "markdown",
   "id": "regulated-murder",
   "metadata": {},
   "source": [
    "# Training a Classifier to Detect Fraudulent Financial Transactions\n",
    "First, we load our dataset. Note that due to privacy concerns, all features but for Time and Amount have generic names and were found through [PCA](https://en.wikipedia.org/wiki/Principal_component_analysis)."
   ]
  },
  {
   "cell_type": "code",
   "execution_count": null,
   "id": "generous-enlargement",
   "metadata": {
    "ExecuteTime": {
     "end_time": "2021-04-01T11:18:41.906677Z",
     "start_time": "2021-04-01T11:18:38.909173Z"
    }
   },
   "outputs": [],
   "source": [
    "import pandas as pd\n",
    "df = pd.read_csv(\"transactions.csv.zip\")\n",
    "df.head()"
   ]
  },
  {
   "cell_type": "markdown",
   "id": "formal-madagascar",
   "metadata": {},
   "source": [
    "## Creating the Test Set\n",
    "We perform a split into a train and test set:"
   ]
  },
  {
   "cell_type": "code",
   "execution_count": null,
   "id": "homeless-wilderness",
   "metadata": {
    "ExecuteTime": {
     "end_time": "2021-04-01T11:18:42.477916Z",
     "start_time": "2021-04-01T11:18:41.909233Z"
    }
   },
   "outputs": [],
   "source": [
    "from sklearn.model_selection import train_test_split\n",
    "X_train, X_test, y_train, y_test = train_test_split(df.drop(columns = \"Class\"),\n",
    "                                                    df[\"Class\"],\n",
    "                                                    test_size = 0.2,\n",
    "                                                    stratify = df[\"Class\"])\n",
    "print(f\"{y_train.size} train samples\\n {y_test.size} test samples\")"
   ]
  },
  {
   "cell_type": "markdown",
   "id": "amino-promotion",
   "metadata": {},
   "source": [
    "## Fitting a Dummy Classifier\n",
    "For now, we use a dummy classifier where no matter the input, the probability of reporting a fraudulent transaction is always equal to the ratio of fraudulent transactions in our training set."
   ]
  },
  {
   "cell_type": "code",
   "execution_count": null,
   "id": "significant-distributor",
   "metadata": {
    "ExecuteTime": {
     "end_time": "2021-04-01T11:18:42.516336Z",
     "start_time": "2021-04-01T11:18:42.481724Z"
    }
   },
   "outputs": [],
   "source": [
    "from sklearn.dummy import DummyClassifier\n",
    "dummy = DummyClassifier().fit(X_train, y_train)"
   ]
  },
  {
   "cell_type": "markdown",
   "id": "political-isaac",
   "metadata": {},
   "source": [
    "## Implementing the Predict Function\n",
    "You will have to implement the predict function that we will run in order to check the performance of your model on a secret test set. The better you perfrom, the higher you'll be on the leaderboard! For now, our solution is to use our dummy classifier to make predictions based on the input values.\n",
    "\n",
    "Note that this predict function should return the values of the decision function of your model, which have the shape (N, 2). In the probabilistic case, the first column is the probability that the input values are negative (i.e. genuine transactions) and the second column is the probability that the input values are positive (i.e. fraudulent transactions)."
   ]
  },
  {
   "cell_type": "code",
   "execution_count": null,
   "id": "fleet-jacob",
   "metadata": {
    "ExecuteTime": {
     "end_time": "2021-04-01T11:18:42.530734Z",
     "start_time": "2021-04-01T11:18:42.523011Z"
    }
   },
   "outputs": [],
   "source": [
    "def leader_board_predict_fn(values):\n",
    "    ### YOUR CODE HERE\n",
    "    return dummy.predict_proba(values)"
   ]
  },
  {
   "cell_type": "markdown",
   "id": "global-literature",
   "metadata": {},
   "source": [
    "## Testing the Dummy Classifier\n",
    "To measure the classifier's performance on the test set, we will use the [ROC AUC score](https://scikit-learn.org/stable/modules/model_evaluation.html#roc-metrics). The best possible score is 1."
   ]
  },
  {
   "cell_type": "code",
   "execution_count": null,
   "id": "accomplished-employer",
   "metadata": {
    "ExecuteTime": {
     "end_time": "2021-04-01T11:18:42.558259Z",
     "start_time": "2021-04-01T11:18:42.534795Z"
    }
   },
   "outputs": [],
   "source": [
    "### LEADER BOARD TEST\n",
    "from sklearn.metrics import roc_auc_score\n",
    "score = roc_auc_score(y_test, leader_board_predict_fn(X_test)[:, 1])\n",
    "print(f\"Leaderboard Score: {score}\")\n",
    "### LEADER BOARD TEST"
   ]
  }
 ],
 "metadata": {
  "kernelspec": {
   "display_name": "Python 3",
   "language": "python",
   "name": "python3"
  },
  "language_info": {
   "codemirror_mode": {
    "name": "ipython",
    "version": 3
   },
   "file_extension": ".py",
   "mimetype": "text/x-python",
   "name": "python",
   "nbconvert_exporter": "python",
   "pygments_lexer": "ipython3",
   "version": "3.7.9"
  },
  "toc": {
   "base_numbering": 1,
   "nav_menu": {},
   "number_sections": true,
   "sideBar": true,
   "skip_h1_title": false,
   "title_cell": "Table of Contents",
   "title_sidebar": "Contents",
   "toc_cell": true,
   "toc_position": {},
   "toc_section_display": true,
   "toc_window_display": true
  },
  "varInspector": {
   "cols": {
    "lenName": 16,
    "lenType": 16,
    "lenVar": 40
   },
   "kernels_config": {
    "python": {
     "delete_cmd_postfix": "",
     "delete_cmd_prefix": "del ",
     "library": "var_list.py",
     "varRefreshCmd": "print(var_dic_list())"
    },
    "r": {
     "delete_cmd_postfix": ") ",
     "delete_cmd_prefix": "rm(",
     "library": "var_list.r",
     "varRefreshCmd": "cat(var_dic_list()) "
    }
   },
   "types_to_exclude": [
    "module",
    "function",
    "builtin_function_or_method",
    "instance",
    "_Feature"
   ],
   "window_display": false
  }
 },
 "nbformat": 4,
 "nbformat_minor": 5
}
