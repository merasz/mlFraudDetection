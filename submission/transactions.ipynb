{
 "cells": [
  {
   "cell_type": "markdown",
   "id": "daccf53c",
   "metadata": {
    "toc": true
   },
   "source": [
    "<h1>Table of Contents<span class=\"tocSkip\"></span></h1>\n",
    "<div class=\"toc\"><ul class=\"toc-item\"><li><span><a href=\"#Financial-Transactions\" data-toc-modified-id=\"Financial-Transactions-1\"><span class=\"toc-item-num\">1&nbsp;&nbsp;</span>Financial Transactions</a></span><ul class=\"toc-item\"><li><span><a href=\"#The-Leaderboard-Predict-function\" data-toc-modified-id=\"The-Leaderboard-Predict-function-1.1\"><span class=\"toc-item-num\">1.1&nbsp;&nbsp;</span>The Leaderboard Predict function</a></span></li><li><span><a href=\"#Testing-your-Implementation\" data-toc-modified-id=\"Testing-your-Implementation-1.2\"><span class=\"toc-item-num\">1.2&nbsp;&nbsp;</span>Testing your Implementation</a></span></li></ul></li></ul></div>"
   ]
  },
  {
   "cell_type": "markdown",
   "id": "52f39a24",
   "metadata": {
    "deletable": false,
    "editable": false,
    "nbgrader": {
     "cell_type": "markdown",
     "checksum": "64f7c372b96e90860c81abab27fcaf91",
     "grade": false,
     "grade_id": "cell-e73d576a3d47c12f",
     "locked": true,
     "schema_version": 3,
     "solution": false,
     "task": false
    }
   },
   "source": [
    "# Financial Transactions\n",
    "\n",
    "The ability to identify fraudulent transactions is of great interest to the payments industry. In this notebook, you will make use of the binary classifier you trained on the transcations dataset to detect fraud."
   ]
  },
  {
   "cell_type": "markdown",
   "id": "0df2a64a",
   "metadata": {
    "deletable": false,
    "editable": false,
    "nbgrader": {
     "cell_type": "markdown",
     "checksum": "fcfbf4adef8ec43129f89597b7c59497",
     "grade": false,
     "grade_id": "cell-039042e3f5c8bdaa",
     "locked": true,
     "schema_version": 3,
     "solution": false,
     "task": false
    }
   },
   "source": [
    "## The Leaderboard Predict function\n",
    "Replace the comment and `NotImplementedError` in the `leader_board_predict_fn` with code that loads your model parameters and returns the likelyhood of fraud for each transaction (i.e. row) in the values dataframe. Note that the returned array should contain a single decision function value for each transaction, indicating whether the transaction is fraudulent (i.e. it belongs to target class $1$). The higher the decision function value, the more likely that the transaction is fraud.\n",
    "You can import the packages you require."
   ]
  },
  {
   "cell_type": "code",
   "execution_count": 1,
   "id": "2ac0e088",
   "metadata": {},
   "outputs": [],
   "source": [
    "# Added Cell\n",
    "import pickle\n",
    "\n",
    "def save_model(model, filename='model.sav'):\n",
    "    pickle.dump(model, open(filename, 'wb'))\n",
    "    \n",
    "def load_model(filename='model.sav'):\n",
    "    model = pickle.load(open(filename, 'rb'))\n",
    "    return model"
   ]
  },
  {
   "cell_type": "code",
   "execution_count": 2,
   "id": "9d18e6f6",
   "metadata": {},
   "outputs": [],
   "source": [
    "# Define hyperparameters\n",
    "LEARNING_RATE = 0.0002\n",
    "MOMENTUM = 0.92\n",
    "INPUT_SIZE = 30\n",
    "HIDDEN_SIZE = 11\n",
    "OUTPUT_SIZE = 1\n",
    "NUM_EPOCHS = 10\n",
    "BATCH_SIZE = 128\n",
    "\n",
    "MODEL_NAME = 'model.pt'\n",
    "SCALER_NAME = 'scaler.sav'"
   ]
  },
  {
   "cell_type": "code",
   "execution_count": 3,
   "id": "a96ccaa2",
   "metadata": {},
   "outputs": [],
   "source": [
    "import torch\n",
    "import torch.nn as nn\n",
    "import torch.nn.functional as F\n",
    "import torch.optim as optim\n",
    "\n",
    "class Net(nn.Module):\n",
    "    def __init__(self, input_size, hidden_size, output_size):\n",
    "        super(Net, self).__init__()\n",
    "        self.hidden_size = hidden_size\n",
    "        self.input_size = input_size\n",
    "        self.output_size = output_size\n",
    "        \n",
    "        self.fc1 = nn.Linear(input_size, hidden_size)\n",
    "        self.fc2 = nn.Linear(hidden_size, hidden_size)\n",
    "        self.fc3 = nn.Linear(hidden_size, hidden_size)\n",
    "        self.fc4 = nn.Linear(hidden_size, output_size)\n",
    "\n",
    "    def forward(self, x):\n",
    "        # Flatten the input x keeping the batch dimension the same\n",
    "        # Use the relu activation on the output of self.fc1(x)\n",
    "        # Use the relu activation on the output of self.fc2(x)\n",
    "        # Use the relu activation on the output of self.fc3(x)\n",
    "        # Pass x through fc4 but do not apply any activation function\n",
    "        \n",
    "        x = torch.flatten(x, 1) # flatten all dimensions except the batch dimension\n",
    "        x = F.relu(self.fc1(x))\n",
    "        x = F.relu(self.fc2(x))\n",
    "        x = F.relu(self.fc3(x))\n",
    "        x = self.fc4(x)\n",
    "        return x  # Return x (logits)"
   ]
  },
  {
   "cell_type": "code",
   "execution_count": 4,
   "id": "63201615",
   "metadata": {},
   "outputs": [],
   "source": [
    "class Classifier:\n",
    "    \"\"\"\n",
    "    Basic classifier defining methods train and predict.\n",
    "    This class does no classifications. Use Sub-classes instead\n",
    "    \"\"\"\n",
    "    def train(self, X, y):\n",
    "        pass\n",
    "\n",
    "    def predict(self, X):\n",
    "        pass"
   ]
  },
  {
   "cell_type": "code",
   "execution_count": 5,
   "id": "bcd7f30a",
   "metadata": {},
   "outputs": [],
   "source": [
    "class LogisticRegression(Classifier):\n",
    "\n",
    "    def __init__(self):\n",
    "        self.w = None\n",
    "\n",
    "    def sigmoid(self, z):\n",
    "        \"\"\"\n",
    "        Function that computes the sigmoid of the input values.\n",
    "\n",
    "        :param z: input values\n",
    "        :returns: sigmoid values for each input value\n",
    "        \"\"\"\n",
    "\n",
    "        return 1 / (1 + np.exp(-z))\n",
    "\n",
    "    def train(self, X, y):\n",
    "        print(\"Train in _training\")\n",
    "\n",
    "    def predict(self, x):\n",
    "        \"\"\"\n",
    "        Assign input to a class using the logistic regression model.\n",
    "\n",
    "        :param: w: Weight vector\n",
    "        :param: x: Test input data\n",
    "        :returns: Predicted class labels (0 or 1)\n",
    "        \"\"\"\n",
    "\n",
    "        if self.w is None:\n",
    "            print(\"Weights not specified. Train the model first\")\n",
    "            return\n",
    "\n",
    "        f_x = self.sigmoid(x @ self.w)\n",
    "        predictions = np.round(f_x)\n",
    "\n",
    "        return predictions"
   ]
  },
  {
   "cell_type": "code",
   "execution_count": 6,
   "id": "83d9c6bf",
   "metadata": {
    "ExecuteTime": {
     "end_time": "2021-04-01T11:14:34.027148Z",
     "start_time": "2021-04-01T11:14:34.022386Z"
    },
    "deletable": false,
    "nbgrader": {
     "cell_type": "code",
     "checksum": "078d3e7d4d77df211c92872e8e23661b",
     "grade": false,
     "grade_id": "cell-951632347ae286bd",
     "locked": false,
     "schema_version": 3,
     "solution": true,
     "task": false
    }
   },
   "outputs": [],
   "source": [
    "from sklearn.preprocessing import StandardScaler\n",
    "\n",
    "# standardscalar for scaling the data (preprocessing)\n",
    "scaler = load_model(filename=SCALER_NAME)\n",
    "net = torch.load(MODEL_NAME, map_location='cpu')\n",
    "\n",
    "def leader_board_predict_fn(values):\n",
    "    \n",
    "    decision_function_values = np.zeros(values.shape[0])\n",
    "    \n",
    "    # YOUR CODE HERE\n",
    "    X = scaler.transform(values.values.astype(np.float32))\n",
    "    \n",
    "    net.eval()\n",
    "    \n",
    "    # Make predictions (class 0 or 1) using the learned parameters\n",
    "    \n",
    "    # Computes probabilities using forward propagation, and classifies to 0/1 using 0.5 as the threshold.\n",
    "    X = torch.tensor(X)\n",
    "    logits = net(X)\n",
    "    # class 0 if < 0.5, class 1 if >= 0.5 and <= 1\n",
    "    predictions = torch.round(torch.sigmoid(logits))\n",
    "    \n",
    "    decision_function_values = predictions.int().numpy()\n",
    "    decision_function_values = decision_function_values.ravel()\n",
    "    \n",
    "    return decision_function_values"
   ]
  },
  {
   "cell_type": "code",
   "execution_count": 7,
   "id": "63d41472",
   "metadata": {},
   "outputs": [],
   "source": [
    "# UNCOMMENT the cell and comment the cell above if you want to test LogisticRegression\n",
    "\n",
    "# from sklearn.preprocessing import StandardScaler\n",
    "\n",
    "# # standardscalar for scaling the data (preprocessing)\n",
    "# scaler = load_model(filename=SCALER_NAME)\n",
    "# clf = load_model()\n",
    "\n",
    "# def leader_board_predict_fn(values):\n",
    "#     # YOUR CODE HERE\n",
    "#     values = scaler.transform(values)\n",
    "#     return clf.predict(values)"
   ]
  },
  {
   "cell_type": "markdown",
   "id": "4716f536",
   "metadata": {
    "deletable": false,
    "editable": false,
    "nbgrader": {
     "cell_type": "markdown",
     "checksum": "d5b91dddd2a088ce77c347337e55b7ef",
     "grade": false,
     "grade_id": "cell-feda725da2aaae3d",
     "locked": true,
     "schema_version": 3,
     "solution": false,
     "task": false
    }
   },
   "source": [
    "## Testing your Implementation\n",
    "Your model should return the probability or decision function value that indicates the likelyhood of fraud for each input transaction. To verify that this is the case, we run your model on a subset of the transactions dataset it was trained on. There is a hidden cell that performs the actual test on the unseen test set and computes your score for the leaderboard using the [ROC AUC](https://scikit-learn.org/stable/modules/generated/sklearn.metrics.roc_auc_score.html) score."
   ]
  },
  {
   "cell_type": "code",
   "execution_count": 8,
   "id": "bed5fa61",
   "metadata": {
    "deletable": false,
    "editable": false,
    "nbgrader": {
     "cell_type": "code",
     "checksum": "c38a6a8846c160ddac1c21724c2d5f65",
     "grade": true,
     "grade_id": "cell-973aee3c6a885301",
     "locked": true,
     "points": 0,
     "schema_version": 3,
     "solution": false,
     "task": false
    }
   },
   "outputs": [
    {
     "name": "stdout",
     "output_type": "stream",
     "text": [
      "Train Dataset Score: 0.949058643679086\n"
     ]
    }
   ],
   "source": [
    "import pandas as pd\n",
    "import numpy as np\n",
    "import os\n",
    "from sklearn.metrics import roc_auc_score\n",
    "import pathlib\n",
    "\n",
    "try:\n",
    "    path = \"/data/mlproject21\" if os.path.exists(\"/data/mlproject21\") else \".\"\n",
    "    test_data = pd.read_csv(os.path.join(path, \"transactions.csv.zip\"))\n",
    "    X_test = test_data.drop(columns = \"Class\")\n",
    "    y_test = test_data[\"Class\"]\n",
    "    decision_function_values = leader_board_predict_fn(X_test)\n",
    "    assert decision_function_values.shape == (X_test.shape[0],)\n",
    "    dataset_score = roc_auc_score(y_test, decision_function_values)\n",
    "    assert dataset_score >= 0.0 and dataset_score <= 1.0\n",
    "except Exception:\n",
    "    dataset_score = np.float(\"nan\")\n",
    "print(f\"Train Dataset Score: {dataset_score}\")\n"
   ]
  },
  {
   "cell_type": "code",
   "execution_count": null,
   "id": "ac704069",
   "metadata": {},
   "outputs": [],
   "source": []
  }
 ],
 "metadata": {
  "kernelspec": {
   "display_name": "Python 3",
   "language": "python",
   "name": "python3"
  },
  "language_info": {
   "codemirror_mode": {
    "name": "ipython",
    "version": 3
   },
   "file_extension": ".py",
   "mimetype": "text/x-python",
   "name": "python",
   "nbconvert_exporter": "python",
   "pygments_lexer": "ipython3",
   "version": "3.9.2"
  },
  "toc": {
   "base_numbering": 1,
   "nav_menu": {},
   "number_sections": true,
   "sideBar": true,
   "skip_h1_title": false,
   "title_cell": "Table of Contents",
   "title_sidebar": "Contents",
   "toc_cell": true,
   "toc_position": {
    "height": "calc(100% - 180px)",
    "left": "10px",
    "top": "150px",
    "width": "165px"
   },
   "toc_section_display": true,
   "toc_window_display": true
  },
  "varInspector": {
   "cols": {
    "lenName": 16,
    "lenType": 16,
    "lenVar": 40
   },
   "kernels_config": {
    "python": {
     "delete_cmd_postfix": "",
     "delete_cmd_prefix": "del ",
     "library": "var_list.py",
     "varRefreshCmd": "print(var_dic_list())"
    },
    "r": {
     "delete_cmd_postfix": ") ",
     "delete_cmd_prefix": "rm(",
     "library": "var_list.r",
     "varRefreshCmd": "cat(var_dic_list()) "
    }
   },
   "types_to_exclude": [
    "module",
    "function",
    "builtin_function_or_method",
    "instance",
    "_Feature"
   ],
   "window_display": false
  }
 },
 "nbformat": 4,
 "nbformat_minor": 5
}
